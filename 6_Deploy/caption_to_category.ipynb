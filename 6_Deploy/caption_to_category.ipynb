{
 "cells": [
  {
   "cell_type": "code",
   "execution_count": 1,
   "metadata": {
    "id": "0M9YfjE2CS3B"
   },
   "outputs": [],
   "source": [
    "import os\n",
    "import io\n",
    "import json\n",
    "\n",
    "import tensorflow as tf\n",
    "import numpy as np\n",
    "import pandas as pd\n",
    "\n",
    "from sklearn import model_selection\n",
    "from sklearn.preprocessing import LabelEncoder \n",
    "from sklearn.model_selection import train_test_split"
   ]
  },
  {
   "cell_type": "code",
   "execution_count": 3,
   "metadata": {},
   "outputs": [
    {
     "name": "stdout",
     "output_type": "stream",
     "text": [
      "INFO:tensorflow:Using MirroredStrategy with devices ('/job:localhost/replica:0/task:0/device:GPU:0',)\n",
      "Number of devices: 1\n"
     ]
    }
   ],
   "source": [
    "strategy = tf.distribute.MirroredStrategy()\n",
    "num_replicas = strategy.num_replicas_in_sync\n",
    "print('Number of devices: {}'.format(num_replicas))"
   ]
  },
  {
   "cell_type": "markdown",
   "metadata": {
    "id": "bq7QdPdaCS3V"
   },
   "source": [
    "# Hyperparameters"
   ]
  },
  {
   "cell_type": "code",
   "execution_count": 4,
   "metadata": {
    "id": "9kSSCRSKCS3W"
   },
   "outputs": [],
   "source": [
    "output_dir = f\"{os.getcwd()}/model_output/caption_to_category\"\n",
    "\n",
    "num_epochs=5\n",
    "batch_size_per_replica=512\n",
    "batch_size = batch_size_per_replica * num_replicas\n",
    "\n",
    "embedding_dim = 512 \n",
    "max_features=5000 #we set maximum number of words to 5000\n",
    "maxlen=300 #we set maximum sequence length to 300"
   ]
  },
  {
   "cell_type": "markdown",
   "metadata": {
    "id": "XRSU9g69CS3o"
   },
   "source": [
    "# Load Data from Disk"
   ]
  },
  {
   "cell_type": "code",
   "execution_count": 5,
   "metadata": {
    "id": "gghCm0GCCS3q",
    "outputId": "139bbd44-2989-40fa-fcd1-09eb538c7b10"
   },
   "outputs": [
    {
     "data": {
      "text/html": [
       "<div>\n",
       "<style scoped>\n",
       "    .dataframe tbody tr th:only-of-type {\n",
       "        vertical-align: middle;\n",
       "    }\n",
       "\n",
       "    .dataframe tbody tr th {\n",
       "        vertical-align: top;\n",
       "    }\n",
       "\n",
       "    .dataframe thead th {\n",
       "        text-align: right;\n",
       "    }\n",
       "</style>\n",
       "<table border=\"1\" class=\"dataframe\">\n",
       "  <thead>\n",
       "    <tr style=\"text-align: right;\">\n",
       "      <th></th>\n",
       "      <th>url</th>\n",
       "      <th>urlkey</th>\n",
       "      <th>text</th>\n",
       "      <th>iab</th>\n",
       "    </tr>\n",
       "    <tr>\n",
       "      <th>index</th>\n",
       "      <th></th>\n",
       "      <th></th>\n",
       "      <th></th>\n",
       "      <th></th>\n",
       "    </tr>\n",
       "  </thead>\n",
       "  <tbody>\n",
       "    <tr>\n",
       "      <th>0</th>\n",
       "      <td>youtube.com</td>\n",
       "      <td>com,youtube)/</td>\n",
       "      <td>[youtube, skip, navigation, sign, search, home...</td>\n",
       "      <td>{'IAB1': 0.9334222620816729, 'IAB1-1': 0, 'IAB...</td>\n",
       "    </tr>\n",
       "    <tr>\n",
       "      <th>1</th>\n",
       "      <td>youtube.com</td>\n",
       "      <td>com,youtube)/</td>\n",
       "      <td>[new, york, city, digs, mass, graves, potter, ...</td>\n",
       "      <td>{'IAB1': 0.9334222620816729, 'IAB1-1': 0, 'IAB...</td>\n",
       "    </tr>\n",
       "    <tr>\n",
       "      <th>2</th>\n",
       "      <td>youtube.com</td>\n",
       "      <td>com,youtube)/</td>\n",
       "      <td>[ago, vs, pork, chop, dinner, pro, chef, home,...</td>\n",
       "      <td>{'IAB1': 0.9334222620816729, 'IAB1-1': 0, 'IAB...</td>\n",
       "    </tr>\n",
       "    <tr>\n",
       "      <th>3</th>\n",
       "      <td>youtube.com</td>\n",
       "      <td>com,youtube)/1027kiisfm</td>\n",
       "      <td>[hit, music, station, listen, live, http, skip...</td>\n",
       "      <td>{'IAB1': 0.9334222620816729, 'IAB1-1': 0, 'IAB...</td>\n",
       "    </tr>\n",
       "    <tr>\n",
       "      <th>4</th>\n",
       "      <td>youtube.com</td>\n",
       "      <td>com,youtube)/1027kiisfm</td>\n",
       "      <td>[iheartawards, nomination, tattoos, duration, ...</td>\n",
       "      <td>{'IAB1': 0.9334222620816729, 'IAB1-1': 0, 'IAB...</td>\n",
       "    </tr>\n",
       "  </tbody>\n",
       "</table>\n",
       "</div>"
      ],
      "text/plain": [
       "               url                   urlkey  \\\n",
       "index                                         \n",
       "0      youtube.com            com,youtube)/   \n",
       "1      youtube.com            com,youtube)/   \n",
       "2      youtube.com            com,youtube)/   \n",
       "3      youtube.com  com,youtube)/1027kiisfm   \n",
       "4      youtube.com  com,youtube)/1027kiisfm   \n",
       "\n",
       "                                                    text  \\\n",
       "index                                                      \n",
       "0      [youtube, skip, navigation, sign, search, home...   \n",
       "1      [new, york, city, digs, mass, graves, potter, ...   \n",
       "2      [ago, vs, pork, chop, dinner, pro, chef, home,...   \n",
       "3      [hit, music, station, listen, live, http, skip...   \n",
       "4      [iheartawards, nomination, tattoos, duration, ...   \n",
       "\n",
       "                                                     iab  \n",
       "index                                                     \n",
       "0      {'IAB1': 0.9334222620816729, 'IAB1-1': 0, 'IAB...  \n",
       "1      {'IAB1': 0.9334222620816729, 'IAB1-1': 0, 'IAB...  \n",
       "2      {'IAB1': 0.9334222620816729, 'IAB1-1': 0, 'IAB...  \n",
       "3      {'IAB1': 0.9334222620816729, 'IAB1-1': 0, 'IAB...  \n",
       "4      {'IAB1': 0.9334222620816729, 'IAB1-1': 0, 'IAB...  "
      ]
     },
     "execution_count": 5,
     "metadata": {},
     "output_type": "execute_result"
    }
   ],
   "source": [
    "#Load the parquet data frame... nothing that special here just filename hackery\n",
    "file_suffix = []\n",
    "for i in range(14):\n",
    "    file_suffix.append(str((i+1)*2000))\n",
    "   \n",
    "output_array = []\n",
    "for f in file_suffix:\n",
    "    filepath = os.path.abspath(os.path.join(os.getcwd(), \n",
    "            \"..\", \n",
    "            \"data/url_to_category/downloads/preprocessed/master_6-11_\"+f+\".parquet\"))\n",
    "\n",
    "    file_df = pd.read_parquet(filepath)\n",
    "    output_array.append(file_df)\n",
    "\n",
    "raw_df = pd.concat(output_array)\n",
    "    \n",
    "#append to dataframe\n",
    "raw_df.head()"
   ]
  },
  {
   "cell_type": "markdown",
   "metadata": {
    "id": "PlVDcZ07CS33"
   },
   "source": [
    "# Setup Labels (IAB Categories, Y)"
   ]
  },
  {
   "cell_type": "code",
   "execution_count": 6,
   "metadata": {
    "id": "FtVKkwAFCS35",
    "outputId": "d9f1167c-5f53-4ba0-acb2-50afa112f0f4"
   },
   "outputs": [
    {
     "name": "stdout",
     "output_type": "stream",
     "text": [
      "[0.9334222620816729, 0, 0, 0, 0, 0, 0, 0.9314065434229816, 0, 0, 0, 0, 0, 0, 0, 0, 0, 0, 0, 0, 0, 0, 0, 0, 0, 0, 0, 0, 0, 0, 0, 0, 0, 0, 0, 0, 0, 0, 0, 0, 0, 0, 0, 0, 0, 0, 0, 0, 0, 0, 0, 0, 0, 0, 0, 0, 0, 0, 0, 0, 0, 0, 0, 0, 0, 0, 0, 0, 0, 0, 0, 0, 0, 0, 0, 0, 0, 0, 0, 0, 0, 0, 0, 0, 0, 0, 0, 0, 0, 0, 0, 0, 0, 0, 0, 0, 0, 0, 0, 0, 0, 0, 0, 0, 0, 0, 0, 0, 0, 0, 0, 0, 0, 0, 0, 0, 0, 0, 0, 0, 0, 0, 0, 0, 0, 0, 0, 0, 0, 0, 0, 0, 0, 0, 0, 0, 0, 0, 0, 0, 0, 0, 0, 0, 0, 0, 0, 0, 0, 0, 0, 0, 0, 0, 0, 0, 0, 0, 0, 0, 0, 0, 0, 0, 0, 0, 0, 0, 0, 0, 0, 0, 0, 0, 0, 0, 0, 0, 0, 0, 0, 0, 0, 0, 0, 0, 0, 0, 0, 0, 0, 0, 0, 0, 0, 0, 0, 0, 0, 0, 0, 0, 0, 0, 0, 0, 0, 0, 0, 0, 0, 0, 0, 0, 0, 0, 0, 0, 0, 0, 0, 0, 0, 0, 0, 0, 0, 0, 0, 0, 0, 0, 0, 0, 0, 0, 0, 0, 0, 0, 0, 0, 0, 0, 0, 0, 0, 0, 0, 0, 0, 0, 0, 0, 0, 0, 0, 0, 0, 0, 0, 0, 0, 0, 0, 0, 0, 0, 0, 0, 0, 0, 0, 0, 0, 0, 0, 0, 0, 0, 0, 0, 0, 0, 0, 0, 0, 0, 0, 0, 0, 0, 0, 0, 0, 0, 0, 0, 0, 0, 0, 0, 0, 0, 0, 0, 0, 0, 0, 0, 0, 0, 0, 0, 0, 0, 0, 0, 0, 0, 0, 0, 0, 0, 0, 0, 0, 0, 0, 0, 0, 0, 0, 0, 0, 0, 0, 0, 0, 0, 0, 0, 0, 0, 0, 0, 0, 0, 0, 0, 0, 0, 0, 0, 0, 0, 0, 0, 0, 0, 0, 0, 0, 0, 0, 0, 0, 0, 0, 0, 0, 0, 0, 0, 0, 0, 0, 0, 0, 0, 0, 0, 0, 0, 0, 0, 1.0, 0, 0, 0, 0, 0, 0, 0, 0, 1.0, 0, 0, 0, 0, 0, 0, 0]\n",
      "91865\n"
     ]
    }
   ],
   "source": [
    "y = [list(v.values()) for k,v in raw_df.iab.iteritems()]\n",
    "print(y[0]) # our total list of labels\n",
    "print(len(y)) # the total number of labeled sites\n",
    "num_categories = len(y[0]) # the number of labels/IAB categories"
   ]
  },
  {
   "cell_type": "markdown",
   "metadata": {
    "id": "QagKW8ikCS4F"
   },
   "source": [
    "# Setup \"Word Bags\" (X)"
   ]
  },
  {
   "cell_type": "code",
   "execution_count": 7,
   "metadata": {
    "id": "KLNYGlcKCS4H"
   },
   "outputs": [],
   "source": [
    "tok = tf.keras.preprocessing.text.Tokenizer(num_words=max_features) "
   ]
  },
  {
   "cell_type": "code",
   "execution_count": 8,
   "metadata": {
    "id": "6U4dFjANCS4U"
   },
   "outputs": [],
   "source": [
    "tok.fit_on_texts(list(raw_df.text)) "
   ]
  },
  {
   "cell_type": "code",
   "execution_count": 9,
   "metadata": {
    "id": "97BXMaThCS4d",
    "outputId": "a7c251fb-608c-44d2-981d-4a86a88b2095",
    "scrolled": true
   },
   "outputs": [
    {
     "name": "stdout",
     "output_type": "stream",
     "text": [
      "314667\n"
     ]
    }
   ],
   "source": [
    "print(len(tok.word_index))\n",
    "with io.open(output_dir+'/tokenizer.json','w',encoding='utf-8') as f:\n",
    "    f.write(json.dumps(tok.to_json(),ensure_ascii=False))\n",
    "vocab_size = len(tok.word_index) + 1 \n",
    "#this represents the number of words that we tokenize different from max_features but necessary for\n",
    "#the definition of the dimension of the embedding space"
   ]
  },
  {
   "cell_type": "code",
   "execution_count": 10,
   "metadata": {
    "id": "WZlTY8cwCS4n",
    "outputId": "8e4502db-b3a4-4b95-e0eb-0decb09b07b3",
    "scrolled": true
   },
   "outputs": [
    {
     "data": {
      "text/plain": [
       "array([   0,    0,    0,    0,    0,    0,    0,    0,    0,    0,    0,\n",
       "          0,    0,    0,    0,    0,    0,    0,    0,    0,    0,    0,\n",
       "          0,    0,    0,    0,    0,    0,    0,    0,    0,    0,    0,\n",
       "          0,    0,    0,    0,    0,    0,    0,    0,    0,    0,    0,\n",
       "          0,    0,    0,    0,    0,    0,    0,    0,    0,    0,    0,\n",
       "          0,    0,    0,    0,    0,    0,    0,    0,    0,  608,  364,\n",
       "        390,   25,   17,    6,  834,    6,  834,  246,    3,  608,  335,\n",
       "          3,  608,  178,   11,  608,  210,  151,  631,  562,  178,  564,\n",
       "          9,   72,  442,  222, 3066,   34,  474, 1040,   25,   35,  100,\n",
       "        835,  326,   25, 1033, 2438,  328,  845,   11,   99,   56,  435,\n",
       "        328,  156,  416,  133,  416,  155,  155, 1142,  195,   34,  640,\n",
       "       1033, 1193,  155, 2989, 1961, 1385, 1024, 1224, 2153, 3766, 1134,\n",
       "        343, 1344,   57,   33, 2153,   35,   33, 2114,  343,   77,   57,\n",
       "         33, 2982, 2965, 1886, 2153,   35,   33, 2114,  343,   58,   57,\n",
       "        634, 2840,  846, 1967, 1857,  634, 2840, 4328,  447, 2840, 2153,\n",
       "        343,   86,   57,  834, 4914,   33, 4564,  545, 2153,  343,   58,\n",
       "         57, 4690, 4013,  383,   15, 1485, 2153, 2663,  343,   58,   57,\n",
       "       1337, 1480,  341, 2153,  341,  343,  196,   57, 1305, 2153, 3766,\n",
       "        343,   86,   57,  542, 2464, 1539, 2153,  343,   58,   57,   15,\n",
       "        383, 4816, 1007,   34, 2153,   15,  343,   58,   57, 3248, 1157,\n",
       "       1108,  591, 2153,  343,   58,   57,  232,  593, 4937, 2153, 4937,\n",
       "        343,   86,   57, 1341, 1677,  311, 1433, 2153,  343,   86,   57,\n",
       "        421, 2104, 3454, 1359,   37, 2153,  343,   58,   57,  114,  141,\n",
       "        735, 2153,  343,   86,   57, 3255, 1210, 1969,  177, 2153,  566,\n",
       "       4209,  343,   86,   57,  107, 1007,  210,   34, 2153,  343,   58,\n",
       "         57,  778,   86, 1007,   34, 2153,  343,   58,   57, 4864, 1849,\n",
       "       2153,  343,   58,   57,    9,   72, 2331, 3788, 4100,   60,    9,\n",
       "          9, 2722,   72], dtype=int32)"
      ]
     },
     "execution_count": 10,
     "metadata": {},
     "output_type": "execute_result"
    }
   ],
   "source": [
    "train_df = tok.texts_to_sequences(list(raw_df.text)) #this is how we create sequences\n",
    "train_df = tf.keras.preprocessing.sequence.pad_sequences(train_df, maxlen=maxlen) #let's execute pad step\n",
    "train_df[0]"
   ]
  },
  {
   "cell_type": "code",
   "execution_count": 35,
   "metadata": {
    "id": "8a2EpwcbCS4w"
   },
   "outputs": [],
   "source": [
    "X_train, X_test, y_train, y_test = train_test_split(train_df, y, test_size=0.2, random_state=42)\n",
    "train_dataset = tf.data.Dataset.from_tensor_slices((X_train, y_train)).batch(batch_size)\n",
    "test_dataset = tf.data.Dataset.from_tensor_slices((X_test, y_test)).batch(batch_size)"
   ]
  },
  {
   "cell_type": "markdown",
   "metadata": {
    "id": "XdJgECMhCS45"
   },
   "source": [
    "# Model and Train"
   ]
  },
  {
   "cell_type": "code",
   "execution_count": 36,
   "metadata": {
    "id": "bmk3TMNCCS47"
   },
   "outputs": [],
   "source": [
    "with strategy.scope():\n",
    "    model = tf.keras.models.Sequential([\n",
    "      tf.keras.layers.Embedding(input_dim=vocab_size,\n",
    "                               output_dim=embedding_dim,\n",
    "                               input_length=maxlen),\n",
    "      tf.keras.layers.Flatten(),\n",
    "      tf.keras.layers.Dense(num_categories, activation=tf.nn.softmax)\n",
    "\n",
    "    ])\n",
    "    \n",
    "    model.compile(optimizer='nadam',\n",
    "              loss='binary_crossentropy',\n",
    "              metrics=['accuracy'])"
   ]
  },
  {
   "cell_type": "code",
   "execution_count": 37,
   "metadata": {
    "id": "50ZX0ilKCS5L"
   },
   "outputs": [],
   "source": [
    "modelcheckpoint = tf.keras.callbacks.ModelCheckpoint(filepath=output_dir+\n",
    "                                  \"/weights.{epoch:02d}.hdf5\")"
   ]
  },
  {
   "cell_type": "code",
   "execution_count": 38,
   "metadata": {
    "id": "Q2qQwa1KCS5X"
   },
   "outputs": [],
   "source": [
    "if not os.path.exists(output_dir):\n",
    "    os.makedirs(output_dir)"
   ]
  },
  {
   "cell_type": "code",
   "execution_count": 39,
   "metadata": {
    "id": "0oZ8-15nCS5d",
    "outputId": "ddbb1e58-0a56-4af8-ab24-1d26c01e107b",
    "scrolled": true
   },
   "outputs": [
    {
     "name": "stdout",
     "output_type": "stream",
     "text": [
      "Model: \"sequential_1\"\n",
      "_________________________________________________________________\n",
      "Layer (type)                 Output Shape              Param #   \n",
      "=================================================================\n",
      "embedding_1 (Embedding)      (None, 300, 512)          161110016 \n",
      "_________________________________________________________________\n",
      "flatten_1 (Flatten)          (None, 153600)            0         \n",
      "_________________________________________________________________\n",
      "dense_1 (Dense)              (None, 403)               61901203  \n",
      "=================================================================\n",
      "Total params: 223,011,219\n",
      "Trainable params: 223,011,219\n",
      "Non-trainable params: 0\n",
      "_________________________________________________________________\n"
     ]
    }
   ],
   "source": [
    "model.summary()"
   ]
  },
  {
   "cell_type": "code",
   "execution_count": 41,
   "metadata": {
    "id": "XnxifCdqCS5p",
    "outputId": "19f6adc2-9f34-4e8b-c78a-688715612e08",
    "scrolled": true
   },
   "outputs": [
    {
     "name": "stdout",
     "output_type": "stream",
     "text": [
      "Epoch 1/20\n",
      "144/144 [==============================] - 76s 531ms/step - loss: 0.0045 - accuracy: 0.6415 - val_loss: 0.0058 - val_accuracy: 0.5658\n",
      "Epoch 2/20\n",
      "144/144 [==============================] - 76s 529ms/step - loss: 0.0045 - accuracy: 0.6735 - val_loss: 0.0059 - val_accuracy: 0.6958\n",
      "Epoch 3/20\n",
      "144/144 [==============================] - 76s 530ms/step - loss: 0.0043 - accuracy: 0.6946 - val_loss: 0.0056 - val_accuracy: 0.5886\n",
      "Epoch 4/20\n",
      "144/144 [==============================] - 49s 338ms/step - loss: 0.0042 - accuracy: 0.7042 - val_loss: 0.0057 - val_accuracy: 0.7023\n",
      "Epoch 5/20\n",
      "144/144 [==============================] - 49s 338ms/step - loss: 0.0041 - accuracy: 0.7217 - val_loss: 0.0055 - val_accuracy: 0.5748\n",
      "Epoch 6/20\n",
      "144/144 [==============================] - 49s 338ms/step - loss: 0.0041 - accuracy: 0.7221 - val_loss: 0.0057 - val_accuracy: 0.7145\n",
      "Epoch 7/20\n",
      "144/144 [==============================] - 49s 337ms/step - loss: 0.0040 - accuracy: 0.7321 - val_loss: 0.0055 - val_accuracy: 0.6037\n",
      "Epoch 8/20\n",
      "144/144 [==============================] - 49s 339ms/step - loss: 0.0040 - accuracy: 0.7326 - val_loss: 0.0056 - val_accuracy: 0.7048\n",
      "Epoch 9/20\n",
      "144/144 [==============================] - 49s 339ms/step - loss: 0.0040 - accuracy: 0.7385 - val_loss: 0.0054 - val_accuracy: 0.5934\n",
      "Epoch 10/20\n",
      "144/144 [==============================] - 50s 347ms/step - loss: 0.0039 - accuracy: 0.7373 - val_loss: 0.0055 - val_accuracy: 0.7084\n",
      "Epoch 11/20\n",
      "144/144 [==============================] - 49s 340ms/step - loss: 0.0039 - accuracy: 0.7430 - val_loss: 0.0054 - val_accuracy: 0.6045\n",
      "Epoch 12/20\n",
      "144/144 [==============================] - 49s 340ms/step - loss: 0.0039 - accuracy: 0.7427 - val_loss: 0.0055 - val_accuracy: 0.7150\n",
      "Epoch 13/20\n",
      "144/144 [==============================] - 49s 339ms/step - loss: 0.0039 - accuracy: 0.7470 - val_loss: 0.0054 - val_accuracy: 0.6068\n",
      "Epoch 14/20\n",
      "144/144 [==============================] - 49s 340ms/step - loss: 0.0039 - accuracy: 0.7441 - val_loss: 0.0055 - val_accuracy: 0.7059\n",
      "Epoch 15/20\n",
      "144/144 [==============================] - 49s 340ms/step - loss: 0.0039 - accuracy: 0.7499 - val_loss: 0.0054 - val_accuracy: 0.6210\n",
      "Epoch 16/20\n",
      "144/144 [==============================] - 49s 338ms/step - loss: 0.0039 - accuracy: 0.7465 - val_loss: 0.0055 - val_accuracy: 0.7102\n",
      "Epoch 17/20\n",
      "144/144 [==============================] - 49s 341ms/step - loss: 0.0039 - accuracy: 0.7529 - val_loss: 0.0054 - val_accuracy: 0.6216\n",
      "Epoch 18/20\n",
      "144/144 [==============================] - 49s 339ms/step - loss: 0.0038 - accuracy: 0.7489 - val_loss: 0.0055 - val_accuracy: 0.7064\n",
      "Epoch 19/20\n",
      "144/144 [==============================] - 49s 340ms/step - loss: 0.0038 - accuracy: 0.7532 - val_loss: 0.0054 - val_accuracy: 0.6359\n",
      "Epoch 20/20\n",
      "144/144 [==============================] - 49s 339ms/step - loss: 0.0038 - accuracy: 0.7517 - val_loss: 0.0055 - val_accuracy: 0.7075\n"
     ]
    },
    {
     "data": {
      "text/plain": [
       "<tensorflow.python.keras.callbacks.History at 0x7f6e806ee8d0>"
      ]
     },
     "execution_count": 41,
     "metadata": {},
     "output_type": "execute_result"
    }
   ],
   "source": [
    "model.fit(train_dataset,\n",
    "          validation_data=(test_dataset),\n",
    "          epochs=20,\n",
    "          callbacks=[modelcheckpoint])"
   ]
  },
  {
   "cell_type": "code",
   "execution_count": 42,
   "metadata": {
    "id": "Hn--kqXUCS6h"
   },
   "outputs": [],
   "source": [
    "model.load_weights(output_dir+\"/weights.12.hdf5\") # NOT zero-indexed"
   ]
  },
  {
   "cell_type": "code",
   "execution_count": 43,
   "metadata": {
    "id": "RGWXiLmgCS51",
    "outputId": "714ce434-ec25-4854-9ab1-9ad1c1e40252"
   },
   "outputs": [
    {
     "name": "stdout",
     "output_type": "stream",
     "text": [
      "36/36 [==============================] - 3s 73ms/step - loss: 0.0055 - accuracy: 0.7150\n",
      "Test Score: 0.005531344562768936\n",
      "Test Accuracy: 0.7150166034698486\n"
     ]
    }
   ],
   "source": [
    "score = model.evaluate(test_dataset) \n",
    "\n",
    "print(\"Test Score:\", score[0])\n",
    "print(\"Test Accuracy:\", score[1])"
   ]
  },
  {
   "cell_type": "markdown",
   "metadata": {
    "id": "Wz1Psk_6CS6D"
   },
   "source": [
    "# Test with Handmade Text"
   ]
  },
  {
   "cell_type": "code",
   "execution_count": 44,
   "metadata": {
    "id": "WSqf_6uqCS6E"
   },
   "outputs": [],
   "source": [
    "new_text = [\"\"\"\n",
    "American Physiology Reviews, January 2020\n",
    "Easily Growing Additional Fingers\n",
    "The Essential Scientific Guide to Contemporary Finger Generation and Re-generation\n",
    "\"\"\"]"
   ]
  },
  {
   "cell_type": "code",
   "execution_count": 45,
   "metadata": {
    "id": "On2cQemdCS6K",
    "outputId": "341e1752-c224-4135-a08f-5575efd88a3a"
   },
   "outputs": [
    {
     "name": "stdout",
     "output_type": "stream",
     "text": [
      "[[366, 129, 764, 758, 1181, 646, 1044, 2492, 135, 3836, 1652, 1652]]\n"
     ]
    }
   ],
   "source": [
    "test_text = tok.texts_to_sequences(new_text) #this is how we create sequences\n",
    "print(test_text)\n",
    "test_text = tf.keras.preprocessing.sequence.pad_sequences(test_text, maxlen=maxlen) #let's execute pad step"
   ]
  },
  {
   "cell_type": "code",
   "execution_count": 46,
   "metadata": {
    "id": "r20KFBcBCS6Q",
    "outputId": "32674b9b-afde-488a-e876-925aada6d3f3"
   },
   "outputs": [],
   "source": [
    "filepath = os.path.abspath(os.path.join(os.getcwd(), \n",
    "            \"..\", \n",
    "            \"data/url_to_category/downloads/IAB/iab.json\"))\n",
    "with open(filepath) as f:\n",
    "    full_iab_dict = json.load(f)"
   ]
  },
  {
   "cell_type": "code",
   "execution_count": 47,
   "metadata": {
    "id": "v6h-IlNLCS6Y"
   },
   "outputs": [
    {
     "name": "stdout",
     "output_type": "stream",
     "text": [
      "          IAB             Description  Prediction\n",
      "203     IAB13        Personal Finance    0.239017\n",
      "296     IAB19  Technology & Computing    0.060205\n",
      "245     IAB17                  Sports    0.042721\n",
      "83       IAB7        Health & Fitness    0.041792\n",
      "149      IAB9     Hobbies & Interests    0.041486\n",
      "..        ...                     ...         ...\n",
      "28    IAB2-20                   Sedan    0.000026\n",
      "320  IAB19-24       Net for Beginners    0.000026\n",
      "383   IAB23-9       Latter-Day Saints    0.000026\n",
      "255  IAB17-10          Figure Skating    0.000026\n",
      "39     IAB3-7              Government    0.000026\n",
      "\n",
      "[403 rows x 3 columns]\n"
     ]
    }
   ],
   "source": [
    "np.set_printoptions(suppress=True)\n",
    "predictions = model.predict(test_text)\n",
    "\n",
    "results = []\n",
    "\n",
    "i = 0\n",
    "for k,v in full_iab_dict.items():\n",
    "    results.append({\n",
    "        'IAB':k,\n",
    "        'Description':v,\n",
    "        'Prediction':predictions[0][i]\n",
    "        })\n",
    "    i+=1\n",
    "    \n",
    "pred_df = pd.DataFrame(data=results)\n",
    "\n",
    "print(pred_df.sort_values(by='Prediction', ascending=False))"
   ]
  },
  {
   "cell_type": "markdown",
   "metadata": {
    "id": "B_BN8v7aCS6h"
   },
   "source": [
    "# Load/Save Model"
   ]
  },
  {
   "cell_type": "code",
   "execution_count": 49,
   "metadata": {
    "id": "3LnHJmLzCS6q"
   },
   "outputs": [
    {
     "name": "stdout",
     "output_type": "stream",
     "text": [
      "INFO:tensorflow:Assets written to: /clarus-ai/train/model_output/caption_to_category/model_v002/assets\n"
     ]
    }
   ],
   "source": [
    "model.save(output_dir+'/model_v002')"
   ]
  },
  {
   "cell_type": "code",
   "execution_count": null,
   "metadata": {
    "id": "R73zxFCYCS6x"
   },
   "outputs": [],
   "source": []
  }
 ],
 "metadata": {
  "colab": {
   "collapsed_sections": [],
   "name": "old_model(1).ipynb",
   "provenance": []
  },
  "kernelspec": {
   "display_name": "Python 3",
   "language": "python",
   "name": "python3"
  },
  "language_info": {
   "codemirror_mode": {
    "name": "ipython",
    "version": 3
   },
   "file_extension": ".py",
   "mimetype": "text/x-python",
   "name": "python",
   "nbconvert_exporter": "python",
   "pygments_lexer": "ipython3",
   "version": "3.6.9"
  }
 },
 "nbformat": 4,
 "nbformat_minor": 1
}
