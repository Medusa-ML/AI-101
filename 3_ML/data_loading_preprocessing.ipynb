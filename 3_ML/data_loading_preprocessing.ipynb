{
 "cells": [
  {
   "cell_type": "code",
   "execution_count": null,
   "id": "0e5826e4",
   "metadata": {},
   "outputs": [],
   "source": [
    "# Install reqs\n",
    "# !pip install --user Pillow\n",
    "# !pip install --user matplotlib\n",
    "# !pip install --user seaborn\n",
    "# !pip install --user sklearn"
   ]
  },
  {
   "cell_type": "code",
   "execution_count": 3,
   "id": "d0f0e688",
   "metadata": {},
   "outputs": [],
   "source": [
    "import os\n",
    "import io\n",
    "import json\n",
    "import pathlib\n",
    "import glob\n",
    "\n",
    "import pandas as pd\n",
    "import numpy as np\n",
    "import seaborn as sn\n",
    "import tensorflow as tf\n",
    "\n",
    "import PIL\n",
    "import PIL.Image\n",
    "\n",
    "import matplotlib.pyplot as plt\n"
   ]
  },
  {
   "cell_type": "markdown",
   "id": "3f1fe691",
   "metadata": {},
   "source": [
    "# Image Example"
   ]
  },
  {
   "cell_type": "code",
   "execution_count": null,
   "id": "bf259da1",
   "metadata": {},
   "outputs": [],
   "source": [
    "image_df = pd.DataFrame([[\"zelensky.jpg\"],[\"biden.jpg\"]], columns=[\"filename\"])"
   ]
  },
  {
   "cell_type": "code",
   "execution_count": null,
   "id": "f8147249",
   "metadata": {},
   "outputs": [],
   "source": [
    "image_df.head()"
   ]
  },
  {
   "cell_type": "code",
   "execution_count": null,
   "id": "d23967e7",
   "metadata": {},
   "outputs": [],
   "source": [
    "PIL.Image.open(os.path.join(os.getcwd(), str(image_df.filename[0])))"
   ]
  },
  {
   "cell_type": "code",
   "execution_count": null,
   "id": "6b315568",
   "metadata": {},
   "outputs": [],
   "source": [
    "PIL.Image.open(os.path.join(os.getcwd(), str(image_df.filename[1])))"
   ]
  },
  {
   "cell_type": "code",
   "execution_count": null,
   "id": "a1deade6",
   "metadata": {},
   "outputs": [],
   "source": [
    "#TODO Improve cropping\n",
    "img_height = 200\n",
    "img_width = 200\n",
    "\n",
    "images = []\n",
    "for image_path in list(image_df.filename):\n",
    "    full_path = os.path.join(os.getcwd(),image_path)\n",
    "    image = tf.keras.preprocessing.image.load_img(full_path,color_mode='rgb',target_size=(img_height,img_width))\n",
    "    input_arr = tf.keras.preprocessing.image.img_to_array(image)\n",
    "    images.append(input_arr)\n",
    "\n",
    "x = images\n",
    "print(x)"
   ]
  },
  {
   "cell_type": "code",
   "execution_count": null,
   "id": "0ce29ac2",
   "metadata": {},
   "outputs": [],
   "source": [
    "plt.figure(figsize=(10, 10))\n",
    "for i in range(2):\n",
    "    ax = plt.subplot(3, 3, i + 1)\n",
    "    plt.imshow(x[i].astype(\"uint8\"))\n",
    "    plt.axis(\"off\")"
   ]
  },
  {
   "cell_type": "code",
   "execution_count": null,
   "id": "0e503c30",
   "metadata": {},
   "outputs": [],
   "source": [
    "# model = tf.keras.Sequential([\n",
    "#   tf.keras.layers.Conv2D(64, 3, activation='relu'),\n",
    "#   tf.keras.layers.MaxPooling2D(),\n",
    "#   tf.keras.layers.Conv2D(64, 3, activation='relu'),\n",
    "#   tf.keras.layers.MaxPooling2D(),\n",
    "#   tf.keras.layers.Conv2D(64, 3, activation='relu'),\n",
    "#   tf.keras.layers.MaxPooling2D(),\n",
    "#   tf.keras.layers.BatchNormalization(),\n",
    "# FLATTEN HERE!!!!!\n",
    "#   tf.keras.layers.Flatten(),\n",
    "#   tf.keras.layers.Dense(128, activation='tanh'),\n",
    "#   tf.keras.layers.Dense(128, activation='tanh'),\n",
    "#   tf.keras.layers.Dense(1, activation='sigmoid')\n",
    "# ])"
   ]
  },
  {
   "cell_type": "markdown",
   "id": "3c5d5456",
   "metadata": {},
   "source": [
    "# Numeric Example"
   ]
  },
  {
   "cell_type": "code",
   "execution_count": null,
   "id": "2314ca48",
   "metadata": {},
   "outputs": [],
   "source": [
    "num_df = pd.read_csv(\"fakedata.csv\")\n",
    "\n",
    "num_df.head()"
   ]
  },
  {
   "cell_type": "code",
   "execution_count": null,
   "id": "f3848839",
   "metadata": {},
   "outputs": [],
   "source": [
    "corr_matrix = num_df.corr()\n",
    "plt.figure(figsize=(80,60))\n",
    "sn.heatmap(corr_matrix, annot=True)\n",
    "plt.show()"
   ]
  },
  {
   "cell_type": "markdown",
   "id": "48cf847c",
   "metadata": {},
   "source": [
    "# Language"
   ]
  },
  {
   "cell_type": "code",
   "execution_count": 2,
   "id": "d2e6e5f0",
   "metadata": {},
   "outputs": [
    {
     "data": {
      "text/html": [
       "<div>\n",
       "<style scoped>\n",
       "    .dataframe tbody tr th:only-of-type {\n",
       "        vertical-align: middle;\n",
       "    }\n",
       "\n",
       "    .dataframe tbody tr th {\n",
       "        vertical-align: top;\n",
       "    }\n",
       "\n",
       "    .dataframe thead th {\n",
       "        text-align: right;\n",
       "    }\n",
       "</style>\n",
       "<table border=\"1\" class=\"dataframe\">\n",
       "  <thead>\n",
       "    <tr style=\"text-align: right;\">\n",
       "      <th></th>\n",
       "      <th>name</th>\n",
       "      <th>salary</th>\n",
       "    </tr>\n",
       "  </thead>\n",
       "  <tbody>\n",
       "    <tr>\n",
       "      <th>0</th>\n",
       "      <td>Josef</td>\n",
       "      <td>100052</td>\n",
       "    </tr>\n",
       "    <tr>\n",
       "      <th>1</th>\n",
       "      <td>Jimbo</td>\n",
       "      <td>95859</td>\n",
       "    </tr>\n",
       "    <tr>\n",
       "      <th>2</th>\n",
       "      <td>Maria</td>\n",
       "      <td>12558</td>\n",
       "    </tr>\n",
       "    <tr>\n",
       "      <th>3</th>\n",
       "      <td>Cristiano</td>\n",
       "      <td>2999887</td>\n",
       "    </tr>\n",
       "  </tbody>\n",
       "</table>\n",
       "</div>"
      ],
      "text/plain": [
       "        name   salary\n",
       "0      Josef   100052\n",
       "1      Jimbo    95859\n",
       "2      Maria    12558\n",
       "3  Cristiano  2999887"
      ]
     },
     "execution_count": 2,
     "metadata": {},
     "output_type": "execute_result"
    }
   ],
   "source": [
    "lang_df = pd.read_csv(\"names.csv\")\n",
    "\n",
    "lang_df.head()"
   ]
  },
  {
   "cell_type": "code",
   "execution_count": 3,
   "id": "3b25748b",
   "metadata": {},
   "outputs": [
    {
     "name": "stdout",
     "output_type": "stream",
     "text": [
      "name\n",
      "{'Cristiano': 0, 'Jimbo': 1, 'Josef': 2, 'Maria': 3}\n"
     ]
    }
   ],
   "source": [
    "from sklearn.preprocessing import LabelEncoder \n",
    "\n",
    "CATEGORICAL_COLUMNS = ['name']\n",
    "\n",
    "for column in CATEGORICAL_COLUMNS:\n",
    "    number = LabelEncoder()\n",
    "    lang_df[column] = number.fit_transform(lang_df[column].astype('str')).astype(float)\n",
    "    print(column)\n",
    "    \n",
    "    #Save your encodings!!!!\n",
    "    le_name_mapping = dict(zip(number.classes_, number.transform(number.classes_)))\n",
    "    with open(column+'_encoding.txt', 'w') as f:\n",
    "        counter = 0\n",
    "        for item in le_name_mapping:\n",
    "            f.write(\"%s\\n\" % (item + \": \" + str(counter)))\n",
    "            counter+=1\n",
    "    print(le_name_mapping)\n"
   ]
  },
  {
   "cell_type": "code",
   "execution_count": 1,
   "id": "2169068d",
   "metadata": {},
   "outputs": [
    {
     "ename": "NameError",
     "evalue": "name 'lang_df' is not defined",
     "output_type": "error",
     "traceback": [
      "\u001b[0;31m---------------------------------------------------------------------------\u001b[0m",
      "\u001b[0;31mNameError\u001b[0m                                 Traceback (most recent call last)",
      "\u001b[0;32m<ipython-input-1-92d929836209>\u001b[0m in \u001b[0;36m<module>\u001b[0;34m\u001b[0m\n\u001b[0;32m----> 1\u001b[0;31m \u001b[0mlang_df\u001b[0m\u001b[0;34m.\u001b[0m\u001b[0mhead\u001b[0m\u001b[0;34m(\u001b[0m\u001b[0;34m)\u001b[0m\u001b[0;34m\u001b[0m\u001b[0;34m\u001b[0m\u001b[0m\n\u001b[0m",
      "\u001b[0;31mNameError\u001b[0m: name 'lang_df' is not defined"
     ]
    }
   ],
   "source": [
    "lang_df.head()"
   ]
  },
  {
   "cell_type": "markdown",
   "id": "b325afce",
   "metadata": {},
   "source": [
    "# Encrypted?!"
   ]
  },
  {
   "cell_type": "code",
   "execution_count": 12,
   "id": "e52e07b1",
   "metadata": {},
   "outputs": [
    {
     "name": "stdout",
     "output_type": "stream",
     "text": [
      "03573d2cb487b1863796f26ea259dc0c\n"
     ]
    }
   ],
   "source": [
    "import hashlib\n",
    "\n",
    "print(hashlib.md5('Cristiano'.encode()).hexdigest())"
   ]
  },
  {
   "cell_type": "code",
   "execution_count": 13,
   "id": "072d9747",
   "metadata": {},
   "outputs": [
    {
     "data": {
      "text/html": [
       "<div>\n",
       "<style scoped>\n",
       "    .dataframe tbody tr th:only-of-type {\n",
       "        vertical-align: middle;\n",
       "    }\n",
       "\n",
       "    .dataframe tbody tr th {\n",
       "        vertical-align: top;\n",
       "    }\n",
       "\n",
       "    .dataframe thead th {\n",
       "        text-align: right;\n",
       "    }\n",
       "</style>\n",
       "<table border=\"1\" class=\"dataframe\">\n",
       "  <thead>\n",
       "    <tr style=\"text-align: right;\">\n",
       "      <th></th>\n",
       "      <th>name</th>\n",
       "      <th>salary</th>\n",
       "    </tr>\n",
       "  </thead>\n",
       "  <tbody>\n",
       "    <tr>\n",
       "      <th>0</th>\n",
       "      <td>42478b0ad44efdb652e8b61efb8e84fe</td>\n",
       "      <td>3de74f78d82c374f9edd8dc7f3b126ed</td>\n",
       "    </tr>\n",
       "    <tr>\n",
       "      <th>1</th>\n",
       "      <td>3bf3311630c9dba4f9f5df138de287ec</td>\n",
       "      <td>223f7d5da10ede1b8ce507d0eeac2115</td>\n",
       "    </tr>\n",
       "    <tr>\n",
       "      <th>2</th>\n",
       "      <td>cbc19b07662418d5f14cc55657295924</td>\n",
       "      <td>004a68efcee088ddeaaca5c5a3afaa2f</td>\n",
       "    </tr>\n",
       "    <tr>\n",
       "      <th>3</th>\n",
       "      <td>03573d2cb487b1863796f26ea259dc0c</td>\n",
       "      <td>fa8a6b7945e74cd065088642613d8839</td>\n",
       "    </tr>\n",
       "  </tbody>\n",
       "</table>\n",
       "</div>"
      ],
      "text/plain": [
       "                               name                            salary\n",
       "0  42478b0ad44efdb652e8b61efb8e84fe  3de74f78d82c374f9edd8dc7f3b126ed\n",
       "1  3bf3311630c9dba4f9f5df138de287ec  223f7d5da10ede1b8ce507d0eeac2115\n",
       "2  cbc19b07662418d5f14cc55657295924  004a68efcee088ddeaaca5c5a3afaa2f\n",
       "3  03573d2cb487b1863796f26ea259dc0c  fa8a6b7945e74cd065088642613d8839"
      ]
     },
     "execution_count": 13,
     "metadata": {},
     "output_type": "execute_result"
    }
   ],
   "source": [
    "enc_df = pd.read_csv(\"encrypted.csv\")\n",
    "\n",
    "enc_df.head()"
   ]
  },
  {
   "cell_type": "code",
   "execution_count": 15,
   "id": "254da368",
   "metadata": {},
   "outputs": [
    {
     "name": "stdout",
     "output_type": "stream",
     "text": [
      "name\n",
      "{'03573d2cb487b1863796f26ea259dc0c': 0, '3bf3311630c9dba4f9f5df138de287ec': 1, '42478b0ad44efdb652e8b61efb8e84fe': 2, 'cbc19b07662418d5f14cc55657295924': 3}\n",
      "salary\n",
      "{'004a68efcee088ddeaaca5c5a3afaa2f': 0, '223f7d5da10ede1b8ce507d0eeac2115': 1, '3de74f78d82c374f9edd8dc7f3b126ed': 2, 'fa8a6b7945e74cd065088642613d8839': 3}\n"
     ]
    }
   ],
   "source": [
    "from sklearn.preprocessing import LabelEncoder \n",
    "\n",
    "CATEGORICAL_COLUMNS = ['name','salary']\n",
    "\n",
    "for column in CATEGORICAL_COLUMNS:\n",
    "    number = LabelEncoder()\n",
    "    enc_df[column] = number.fit_transform(enc_df[column].astype('str')).astype(float)\n",
    "    print(column)\n",
    "    \n",
    "    #Save your encodings!!!!\n",
    "    le_name_mapping = dict(zip(number.classes_, number.transform(number.classes_)))\n",
    "    with open(column+'_encrypted_encoding.txt', 'w') as f:\n",
    "        counter = 0\n",
    "        for item in le_name_mapping:\n",
    "            f.write(\"%s\\n\" % (item + \": \" + str(counter)))\n",
    "            counter+=1\n",
    "    print(le_name_mapping)\n"
   ]
  },
  {
   "cell_type": "code",
   "execution_count": 16,
   "id": "ee19adce",
   "metadata": {},
   "outputs": [
    {
     "data": {
      "text/html": [
       "<div>\n",
       "<style scoped>\n",
       "    .dataframe tbody tr th:only-of-type {\n",
       "        vertical-align: middle;\n",
       "    }\n",
       "\n",
       "    .dataframe tbody tr th {\n",
       "        vertical-align: top;\n",
       "    }\n",
       "\n",
       "    .dataframe thead th {\n",
       "        text-align: right;\n",
       "    }\n",
       "</style>\n",
       "<table border=\"1\" class=\"dataframe\">\n",
       "  <thead>\n",
       "    <tr style=\"text-align: right;\">\n",
       "      <th></th>\n",
       "      <th>name</th>\n",
       "      <th>salary</th>\n",
       "    </tr>\n",
       "  </thead>\n",
       "  <tbody>\n",
       "    <tr>\n",
       "      <th>0</th>\n",
       "      <td>2.0</td>\n",
       "      <td>2.0</td>\n",
       "    </tr>\n",
       "    <tr>\n",
       "      <th>1</th>\n",
       "      <td>1.0</td>\n",
       "      <td>1.0</td>\n",
       "    </tr>\n",
       "    <tr>\n",
       "      <th>2</th>\n",
       "      <td>3.0</td>\n",
       "      <td>0.0</td>\n",
       "    </tr>\n",
       "    <tr>\n",
       "      <th>3</th>\n",
       "      <td>0.0</td>\n",
       "      <td>3.0</td>\n",
       "    </tr>\n",
       "  </tbody>\n",
       "</table>\n",
       "</div>"
      ],
      "text/plain": [
       "   name  salary\n",
       "0   2.0     2.0\n",
       "1   1.0     1.0\n",
       "2   3.0     0.0\n",
       "3   0.0     3.0"
      ]
     },
     "execution_count": 16,
     "metadata": {},
     "output_type": "execute_result"
    }
   ],
   "source": [
    "enc_df.head()"
   ]
  },
  {
   "cell_type": "code",
   "execution_count": null,
   "id": "7422d7b1",
   "metadata": {},
   "outputs": [],
   "source": []
  }
 ],
 "metadata": {
  "kernelspec": {
   "display_name": "Python 3",
   "language": "python",
   "name": "python3"
  },
  "language_info": {
   "codemirror_mode": {
    "name": "ipython",
    "version": 3
   },
   "file_extension": ".py",
   "mimetype": "text/x-python",
   "name": "python",
   "nbconvert_exporter": "python",
   "pygments_lexer": "ipython3",
   "version": "3.7.3"
  }
 },
 "nbformat": 4,
 "nbformat_minor": 5
}
