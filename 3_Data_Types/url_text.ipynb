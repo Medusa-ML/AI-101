{
 "cells": [
  {
   "cell_type": "code",
   "execution_count": 1,
   "metadata": {},
   "outputs": [
    {
     "name": "stdout",
     "output_type": "stream",
     "text": [
      "Requirement already satisfied: beautifulsoup4 in /usr/local/lib/python3.8/dist-packages (4.11.1)\n",
      "Requirement already satisfied: soupsieve>1.2 in /usr/local/lib/python3.8/dist-packages (from beautifulsoup4) (2.3.2.post1)\n",
      "\u001b[33mWARNING: You are using pip version 20.2.4; however, version 22.3 is available.\n",
      "You should consider upgrading via the '/usr/bin/python3 -m pip install --upgrade pip' command.\u001b[0m\n"
     ]
    }
   ],
   "source": [
    "!pip install beautifulsoup4"
   ]
  },
  {
   "cell_type": "code",
   "execution_count": 3,
   "metadata": {},
   "outputs": [
    {
     "name": "stdout",
     "output_type": "stream",
     "text": [
      "Requirement already satisfied: requests in /usr/local/lib/python3.8/dist-packages (2.28.1)\n",
      "Requirement already satisfied: charset-normalizer<3,>=2 in /usr/local/lib/python3.8/dist-packages (from requests) (2.1.1)\n",
      "Requirement already satisfied: urllib3<1.27,>=1.21.1 in /usr/local/lib/python3.8/dist-packages (from requests) (1.26.12)\n",
      "Requirement already satisfied: certifi>=2017.4.17 in /usr/local/lib/python3.8/dist-packages (from requests) (2022.6.15)\n",
      "Requirement already satisfied: idna<4,>=2.5 in /usr/local/lib/python3.8/dist-packages (from requests) (3.3)\n",
      "\u001b[33mWARNING: You are using pip version 20.2.4; however, version 22.3 is available.\n",
      "You should consider upgrading via the '/usr/bin/python3 -m pip install --upgrade pip' command.\u001b[0m\n"
     ]
    }
   ],
   "source": [
    "!pip install requests"
   ]
  },
  {
   "cell_type": "code",
   "execution_count": 8,
   "metadata": {},
   "outputs": [],
   "source": [
    "import requests\n",
    "from bs4 import BeautifulSoup"
   ]
  },
  {
   "cell_type": "code",
   "execution_count": 9,
   "metadata": {},
   "outputs": [],
   "source": [
    "sitelist = [\n",
    "    {\n",
    "        \"url\":\"https://www.foxnews.com/world/court-overturns-sentence-feminist-simulated-aborting-jesus-catholic-altar-topless\",\n",
    "        \"politics\":\"R\"\n",
    "    },\n",
    "    {\n",
    "        \"url\":\"https://www.msnbc.com/opinion/msnbc-opinion/kanye-west-antisemitism-trump-antisemitism-explained-n1300214\",\n",
    "        \"politics\":\"D\"\n",
    "    }\n",
    "]"
   ]
  },
  {
   "cell_type": "code",
   "execution_count": 10,
   "metadata": {},
   "outputs": [
    {
     "name": "stdout",
     "output_type": "stream",
     "text": [
      "\n",
      "\n",
      "Court overturns sentence of feminist who simulated aborting Jesus on Catholic altar while topless, urinating | Fox News\n",
      "\n",
      "\n",
      "Fox News   U.S.PoliticsMediaOpinionBusinessEntertainmentSportsLifestyleWeatherTVFox NationListen More Expand / Collapse search Login Watch TV Menu Hot Topics    Coronavirus U.S. CrimeMilitaryEducationTerrorImmigrationEconomyPersonal FreedomsFox News InvestigatesWorld U.N.ConflictsTerrorismDisastersGlobal EconomyEnvironmentReligionScandalsOpinion Politics ExecutiveSenateHouseJudiciaryForeign PolicyPollsElectionsEntertainment Celebrity NewsMoviesTV NewsMusic NewsStyle NewsEntertainment VideoBusiness Personal FinanceEconomyMarketsWatchlistLifestyleReal EstateTechLifestyle Food + DrinkCars + TrucksTravel + OutdoorsHouse + HomeFitness + Well-beingStyle + BeautyFamilyFaithScience ArchaeologyAir & SpacePlanet EarthWild NatureNatural ScienceDinosaursTech SecurityInnovationDronesComputersVideo GamesMilitary TechHealth CoronavirusHealthy LivingMedical ResearchMental HealthCancerHeart HealthChildren's HealthTV ShowsPersonalitiesWatch LiveFull EpisodesShow ClipsNews Clips\n",
      "        About\n",
      "       Contact UsCareersFox Around the WorldAdvertise With UsMedia RelationsCorporate InformationComplianceSupplier Diversity\n",
      "        Other\n",
      "       Fox WeatherFox NationFox News ShopFox News GoFox News RadioNewslettersPodcastsApps & Products Fox News New Terms of Use New Privacy Policy Do Not Sell my Personal Information Closed Captioning Policy Help Contact Us \n",
      "      This material may not be published, broadcast, rewritten,\n",
      "      or redistributed. ©2022 FOX News Network, LLC. All rights reserved.\n",
      "      Quotes displayed in real-time or delayed by at least 15 minutes. Market data provided by Factset. Powered and implemented by FactSet Digital Solutions. Legal Statement. Mutual Fund and ETF data provided by Refinitiv Lipper.\n",
      "     Facebook Twitter Instagram RSS Email    World Published  October 25, 2022 2:43pm EDT Court overturns sentence of feminist who simulated aborting Jesus on Catholic altar while topless, urinating A critic alleged the European human rights court treats attacks against Christianity differently than those against Islam   \n",
      "        By\n",
      "        Jon Brown   | Fox News  Facebook Twitter Flipboard Comments Print Email  close      Video Asheville pregnancy center reacts to Jane's Revenge's threat of militant behavior Radical abortionist group pledges violence after Roe overturned; Kristi Brown joins 'The Story' with response.The European Court of Human Rights (ECHR) recently overturned the ruling of a French court that had fined and issued a jail sentence to a feminist who interrupted a Roman Catholic church service and \"aborted\" Jesus on the altar while topless.Eloïse Bouton was bare-breasted and painted in pro-choice slogans all over her body when, in December 2013, she interrupted Christmas carols at Paris' famous Madeleine church and protested the Catholic Church's teachings against abortion by simulating an abortion of Jesus.Wearing a crown of thorns to mock Jesus Christ and a blue veil to deride the Virgin Mary, Bouton carried pieces of ox livers to symbolize an aborted baby as she stood in front of the church altar and pretended to perform an \"abortion\" before urinating on the ground in front of the congregants.Written on Bouton's body at the time was the French phrase \"344 salope,\" which translates to \"344th slut,\" in reference to an open letter of 343 French women who admitted to having an abortion in 1971.CHRISTIANS SLAM NEWSOM FOR ‘DISGUSTING’ PRO-ABORTION BILLBOARDS QUOTING JESUS: ‘SATANIC’  \n",
      "      Eloïse Bouton stands at the altar of the Madeleine church in Paris holding ox livers in protest the Catholic Church's stance on abortion Dec. 20, 2013.\n",
      "      (Thomas Samson/AFP via Getty Images)The Ukrainian group Femen, which Bouton used to be a member of, later celebrated the act on social media, writing \"Christmas is canceled!\" and that \"the holy mother Eloïse has just aborted the embryo of Jesus on the altar of the Madeleine.\"The church's priest filed a legal complaint against Bouton, who was found guilty by a French court of an unlawful \"sexual display.\" She was sentenced to more than a month in prison and ordered to pay the church €2,000, a punishment France's highest court upheld.ILLEGAL IMMIGRANT CHARGED WITH ‘BARBARIC’ KILLING, RAPE OF PARIS 12-YEAR-OLD FOUND IN BOXIn an opinion rendered Oct. 13, the Strasbourg-based ECHR ruled that by punishing Bouton for her display, France violated the article of the European Convention on Human Rights that protects freedom of expression.\"The Court notes that the applicant's conviction was based on the characterization of the offense of sexual exhibition,\" the opinion said in part. \"According to the Government, it was not intended to sanction [her] critical ideas and opinions on the doctrine of the Catholic Church.\"  \n",
      "      Wearing a blue veil to make fun of the Virgin Mary while carrying pieces of ox livers to symbolize an aborted baby, Bouton stood in front of the church's altar and pretended to perform an \"abortion\" before urinating on the ground in front of the congregants.\n",
      "      (Miriam Almeida/EyeEm via Getty Images)\"Nevertheless, the Court considers, as it has mentioned above ..., that in view of its militant nature, the action of the applicant, who sought to express her political convictions, in line with the positions defended by the Femen movement on whose behalf she was acting, must be regarded as constituting a 'performance' falling within the scope of the article,\" the opinion added.MACRON CRITICIZES SUPREME COURT RULING DESPITE FRANCE'S STRICT ABORTION LIMITSECHR ordered France to pay Bouton €9,800 for moral damages, legal costs and expenses.Grégor Puppinck, the director of the European Centre for Law and Justice, criticized the European court's ruling, claiming in a statement on his organization's website that the ECHR increasingly defends attacks against Christian churches on the continent while treating attacks against Islam differently.\"In 2018, it had already ruled that the blasphemous provocation of the feminist punk group, the 'Pussy riots,' in the choir of the Orthodox Cathedral in Moscow was a form of expression protected by the Court,\" Puppinck wrote.NORTH CAROLINA PREGNANCY CENTER DEFIANT AFTER PRO-ABORTION VANDALISM: ‘SPIRITUAL WARFARE’  \n",
      "      The exterior of Paris' L'église Sainte-Marie-Madeleine, known as the Madeleine Church in English.\n",
      "      (Evan Lang via Getty Images)\"The Pussy riots' lawyer, formerly working for [George] Soros foundation, has since become a judge at the ECHR. The same year, the Court also condemned Lithuania for sanctioning blasphemous advertisements featuring Christ and the Virgin Mary,\" Puppinck continued.CLICK HERE TO GET THE FOX NEWS APPPuppinck noted that, in 2018, the ECHR upheld the criminal conviction of a lecturer in Austria who characterized Mohammed's sexual relationship with 9-year-old girl Aisha as pedophilic.  Jon Brown is a writer for Fox News Digital. Story tips can be sent to jon.brown@fox.com               \n",
      "\n",
      "\n",
      "\n",
      "\n",
      "Get all the stories you need-to-know from the most powerful name in news delivered first thing every morning to your inbox\n",
      "Arrives Weekdays\n",
      "\n",
      "Subscribe\n",
      "\n",
      "Subscribed\n",
      "\n",
      "\n",
      "\n",
      "\n",
      "\n",
      "\n",
      "Subscribe\n",
      "\n",
      "You've successfully subscribed to this newsletter!\n",
      "\n",
      "  Coronavirus U.S. CrimeMilitaryEducationTerrorImmigrationEconomyPersonal FreedomsFox News InvestigatesWorld U.N.ConflictsTerrorismDisastersGlobal EconomyEnvironmentReligionScandalsOpinion Politics ExecutiveSenateHouseJudiciaryForeign PolicyPollsElectionsEntertainment Celebrity NewsMoviesTV NewsMusic NewsStyle NewsEntertainment VideoBusiness Personal FinanceEconomyMarketsWatchlistLifestyleReal EstateTechLifestyle Food + DrinkCars + TrucksTravel + OutdoorsHouse + HomeFitness + Well-beingStyle + BeautyFamilyFaithScience ArchaeologyAir & SpacePlanet EarthWild NatureNatural ScienceDinosaursTech SecurityInnovationDronesComputersVideo GamesMilitary TechHealth CoronavirusHealthy LivingMedical ResearchMental HealthCancerHeart HealthChildren's HealthTV ShowsPersonalitiesWatch LiveFull EpisodesShow ClipsNews Clips\n",
      "        About\n",
      "       Contact UsCareersFox Around the WorldAdvertise With UsMedia RelationsCorporate InformationComplianceSupplier Diversity\n",
      "        Other\n",
      "       Fox WeatherFox NationFox News ShopFox News GoFox News RadioNewslettersPodcastsApps & Products Facebook Twitter Instagram Youtube Flipboard LinkedIn Slack RSS Newsletters Spotify iHeartRadio Fox News New Terms of Use New Privacy Policy Do Not Sell my Personal Information Closed Captioning Policy Help Contact Us Accessibility Statement \n",
      "        This material may not be published, broadcast, rewritten, or redistributed. ©2022 FOX News Network, LLC. All rights reserved. Quotes displayed in real-time or delayed by at least 15 minutes. Market data provided by Factset. Powered and implemented by FactSet Digital Solutions. Legal Statement. Mutual Fund and ETF data provided by Refinitiv Lipper.\n",
      "      \n",
      "\n",
      "\n",
      "\n",
      "\n",
      "Kanye West antisemitism and Trump antisemitism, explainedIE 11 is not supported. For an optimal experience visit our site on another browser.SKIP TO CONTENTMSNBC LogoCountdown to MidtermsJan. 6 HearingsMSNBC on PeacockColumnistsRachel MaddowMorning JoeThe BeatAll InThe ReidOutLast Word11th HourDeadline: WHShare this —SearchSearchFeatured ShowsRachel MaddowMondays 9PM ETMorning JoeWeekdays 6am ETDeadline WHWeekdays 4PM ETThe BeatWeeknights 6PM ETThe ReidoutWeeknights 7PM ETAll InWeeknights 8PM ETLast WordWeeknights 10PM ET11th HourWeeknights 11PM ETAlex Wagner TonightTuesday-Friday 9PM ETMSNBC TVWatch LiveListen LiveMoreMSNBC on PeacockMSNBC ColumnistsTV ScheduleMSNBC NewslettersPodcastsTranscriptsHelpMSNBC StoreFollow msnbcMore BrandsToday LogoNBC News LogoMore ShowsWay Too EarlyJosé Díaz-Balart ReportsMSNBC ReportsAndrea Mitchell ReportsKaty Tur ReportsHallie Jackson ReportsSymoneThe Katie Phang ShowVelshiThe Cross Connection with Tiffany CrossThe Sunday Show with Jonathan CapehartAlex Witt ReportsYasmin Vossoughian ReportsPoliticsNationAmerican Voices with Alicia MenendezAymanThe Mehdi Hasan ShowSearchSearchFacebookTwitterEmailSMSPrintWhatsappRedditPocketFlipboardPinterestLinkedinOpinionTrump's antisemitism has nothing to do with people being Jewish. That doesn't make it less dangerous.Donald Trump is a true influencer and innovator in the Judeophobic space.ADL’s Greenblatt: Trump’s social media attack on Jews 'are dangerous comments at a dangerous time’07:00Oct. 25, 2022, 8:29 PM UTC / Updated Oct. 25, 2022, 10:40 PM UTCBy Jacques Berlinerblau, MSNBC Opinion ColumnistIt’s been quite a news cycle for headline-inducing antisemitic macro-aggressions.The fallout from Kanye West’s tweet about going “death con 3 On JEWISH PEOPLE” and his claims Adidas would not take action even if he “said antisemitic s---” (wrong, as we found out Tuesday) continues apace. A white supremacist group in Los Angeles unfurled a “Kanye is right about the Jews” banner on the 405 and performed Nazi salutes for motorists. Jenna Ellis, a former Trump lawyer and current adviser to Pennsylvania gubernatorial candidate Doug Mastriano, referred to Democrat Josh Shapiro as “at best a secular Jew.” A white nationalist raged about urinating on the Talmud, and on and on it went.What Trump is actually saying is slightly different from a generic dual loyalty charge. And far more dangerous.But no roundup of This Week In Antisemitism would be complete without a contribution from Donald J. Trump, a true thought leader, influencer and innovator in the Judeophobic space. Via a post on his own conservative media platform Truth Social, the former president counseled Jewish Americans to emulate “our wonderful Evangelicals,” urging Jews to follow the evangelicals in supporting and admiring him for all he has done for Israel.To Trump’s point, amongst the Jewish electorate, support and admiration have not been abundantly forthcoming: In 2016 and 2020, roughly 70 to 75% of Jewish Americans did not cast their vote for Trump (whereas 80% of evangelicals did). Perhaps aware of those data points, Trump routinely chides the Jewish community. There was thus nothing surprising when he concluded his post with a warning: “U.S. Jews have to get their act together and appreciate what they have in Israel — before it’s too late.”Many in the media and elsewhere reasoned that the former president was playing the “dual loyalty” card with his comments. This well-known antisemitic slander avers that Jews are unpatriotic — more committed to other Jews, and/or Israel, than to the well-being of the United States.The open, unabashed rise of antisemitism from leading figures on the rightOct. 25, 202211:40But what Trump is actually saying is slightly different from a generic dual loyalty charge. And far more dangerous.Trump is making subtle innovations in antisemitic rhetoric, all the while deploying time-tested, old school, anti-Jewish tropes. He might insinuate that all Jews are great negotiators. He might refer to them as \"brutal killers\" in the real estate business. Nor is he above going Full Shylock. Journalist Yair Rosenberg flagged a Trump quote from decades back: “Black guys counting my money! I hate it. The only kind of people I want counting my money are short guys that wear yarmulkes every day.” That’s some classic antisemitism (and racism) right there.But lately you’ll notice a tweak: Trump’s now dividing Jews into two mutually exclusive categories of unequal size. First, there are the good Jews. They vote for MAGA Republicans. They unequivocally support Israel (by which Trump means hard-right Israeli governments beholden to religious-nationalist policies).In fact, these Jews support Israel so much that Trump speaks of them as if they are Israelis, not Americans. When he addressed the Republican Jewish Coalition in 2019, he informed his audience that “I stood with your prime minister,” Benjamin Netanyahu (italics mine). Elsewhere, he pointed out to celebrants at a White House Chanukah gathering that Mike Pence and his wife Karen really love “your country” (again, italics mine). Dual loyalties? Not a problem. As long as good Jews support Donald Trump, it’s kosher by him.Trumpian antisemitism is equipped with a mechanism of plausible deniability. It obscures its links to classic antisemitism.Who might the so-called good Jews be? The Ultra-orthodox vote enthusiastically for Trump. The same might be said about citizens who back the policies of parties like Israel’s Likud, and those to its right. Trump appears to be popular among Jews who emigrated from the former Soviet Union. Sprinkle in some elderly Fox News watchers, and you likely round out his Jewish base, albeit one which does not include seven out of every 10 Jews.This brings us to the “Bad Jews,” to borrow a Twitter phrase from right-wing pundit Ben Shapiro. These wayward Members of the Tribe, according to conservatives like Shapiro, have the revolting tendency to vote for Democrats and are accused of not supporting Israel (i.e., they are not supportive of the way that Trump supports Israel). For those who prescribe to the good Jew/bad Jew school of thought, this isn’t “dual loyalty” — it’s triple disloyalty to Israel, the good Jews, and the United States.As I see it, Trump has crafted a variant of antisemitism all his own, so to speak. His frustrations aren’t primarily based on the idea that Jews murdered Christ (this deicide charge is often parsed as “religious antisemitism”). They aren’t centered on the idea that Jews possess distinctly inferior blood or racial characteristics (this is is known as “racial antisemitism”). Nor on the notion that Jews are either marauding communists or rapacious capitalists (i.e., “economic antisemitism”). No, Trump’s anger is based on the fact that the overwhelming majority of Jews did not cast their ballots for Trump.Trump recognizes Israel’s control of the Golan Heights in tweetMarch 21, 201901:09Trumpian antisemitism is equipped with a mechanism of plausible deniability. It obscures its links to classic antisemitism by affirming that there are indeed good Jews. After all, he has Jewish grandkids! Zayde Trump has no generalized ill-will toward Jews, it’s just that he must publicly excoriate roughly three quarters of them on a routine basis.The danger of this rhetoric to the American Jewish community is threefold. First, there are Trump’s devotees whose capacity for violence is not hypothetical. Second, as we saw above, it emboldens others to chime in with their own antisemitic effusions.A final problem has to do with the stresses that Trump’s hectoring creates within the community. Anyone familiar with Jewish America knows there are internal tensions (about Israel and its treatment of Palestinians, about assimilation, intermarriage, etc). Say what you will about Trump, but he has a unique genius for finding a crack, a seam, a fissure in the social landscape and then ripping it open into a belching canyon of digital rage.Jewish reactions to Trump’s Truth Social tirade shadowed some of these tensions. The Anti Defamation League slammed the remarks as “insulting and disgusting.” The American Jewish Committee administered a relatively anodyne wrist slap on Twitter.Predictably, among Trump’s good Jews, there has been mostly silence, or even empathy. The Republican Jewish Coalition is wordless. AIPAC, if its webpage and Twitter accounts are any indication, has no thoughts on the matter. Morton Klein, president of the right-wing Zionist Organization of America, told the Israeli newspaper Haaretz that he “understood Trump’s pain.”The dual loyalty slander maintains that Jews are clannish, they “stick together.” Trump himself made this very observation. But now he faults the Jewish majority for not sticking together with the Jewish minority who venerate Trump. What separates the good from the bad Jews is worship of Trump — and given the idol in question, that’s what makes this strain of antisemitism so volatile and dangerous.CORRECTION (October 25, 6:35 p.m. ET): A previous version of this article used the wrong Yiddish word to characterize Trump as a grandfather. The correct word is “zayde,” not “bubbee.”Jacques BerlinerblauJacques Berlinerblau is a professor of Jewish Civilization at Georgetown University. He has written numerous books on the subject of secularism, including the recent “Secularism: The Basics” (Routledge). His research concentrates on the nexus between literature and comedy on the one side, and cultural conflicts on the other.AboutContactHelpCareersMSNBC StoreAD ChoicesPrivacy PolicyDo Not Sell My Personal InformationCA NoticeTerms of ServiceMSNBC SitemapClosed CaptioningAdvertise© 2022 NBC UNIVERSALNBC News LogoMSNBC LogoToday Logo\n"
     ]
    }
   ],
   "source": [
    "for site in sitelist:\n",
    "    response = requests.get(site[\"url\"])\n",
    "    text = BeautifulSoup(response.text, \"html\").get_text()\n",
    "    \n",
    "    "
   ]
  },
  {
   "cell_type": "code",
   "execution_count": null,
   "metadata": {},
   "outputs": [],
   "source": []
  }
 ],
 "metadata": {
  "kernelspec": {
   "display_name": "Python 3",
   "language": "python",
   "name": "python3"
  },
  "language_info": {
   "codemirror_mode": {
    "name": "ipython",
    "version": 3
   },
   "file_extension": ".py",
   "mimetype": "text/x-python",
   "name": "python",
   "nbconvert_exporter": "python",
   "pygments_lexer": "ipython3",
   "version": "3.8.10"
  }
 },
 "nbformat": 4,
 "nbformat_minor": 2
}
